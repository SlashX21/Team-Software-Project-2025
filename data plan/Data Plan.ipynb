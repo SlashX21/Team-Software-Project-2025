{
 "cells": [
  {
   "cell_type": "markdown",
   "id": "6578115c",
   "metadata": {},
   "source": [
    "Data Plan\n",
    "Data Sources\n"
   ]
  },
  {
   "cell_type": "markdown",
   "id": "6456b6d3",
   "metadata": {},
   "source": [
    "Product Data: OpenFoodFacts Ireland dataset contains 75,205 Irish products with complete ingredient lists, nutritional information, barcodes, and sustainability metrics.\n",
    "\n",
    "Allergen Data: OpenFoodFacts allergen database contains 317 allergens identified in UK/Ireland List of allergens, and sysyem will design dynamic text matching for additional user-defined allergens.\n",
    "\n",
    "User Data: Users sign up to create a personal account that records the user's allergens, dietary preferences (vegetarian or not, fat and sugar content requirements), shopping behavior, and uploaded grocery receipts."
   ]
  },
  {
   "cell_type": "markdown",
   "id": "7f696852",
   "metadata": {},
   "source": [
    "Data Generation"
   ]
  },
  {
   "cell_type": "markdown",
   "id": "3a5abaaf",
   "metadata": {},
   "source": [
    "Users create personalized profiles during registration and generate behavioral data through app usage. System collects scanning history, purchase decisions, and receipt uploads for consumption tracking and recommendation improvement."
   ]
  },
  {
   "cell_type": "markdown",
   "id": "076fa89f",
   "metadata": {},
   "source": [
    "Data Sufficiency Evidence"
   ]
  },
  {
   "cell_type": "markdown",
   "id": "23a79156",
   "metadata": {},
   "source": [
    "Comprehensive Allergen Coverage: 317 allergens provide extensive coverage beyond the EU's 14 mandatory allergen, addressing both common and rare allergies including specific fruits, additives, and chemical compounds that users might encounter.\n",
    "\n",
    "Market Coverage: 75,205 Irish products ensure comprehensive local market representation with detailed ingredient information supporting accurate allergen detection.\n",
    "\n",
    "Technical Requirements: Complete ingredient lists enable precise allergen matching. The 317-allergen database eliminates the need for extensive manual mapping while supporting edge cases through dynamic text matching."
   ]
  },
  {
   "cell_type": "markdown",
   "id": "256e539c",
   "metadata": {},
   "source": [
    "Evaluation Data"
   ]
  },
  {
   "cell_type": "markdown",
   "id": "b806fbe3",
   "metadata": {},
   "source": [
    "Accuracy Testing: 50 verified products across diverse allergen categories for system validation. \n",
    "\n",
    "User Testing: 10-12 volunteers (classmates, friends, family) testing core app functionality - barcode scanning, allergen detection, recommendation system, and user interface usability.\n",
    "\n",
    "Performance Metrics: System functionality verification, user interface feedback, scanning accuracy rates, response time measurements."
   ]
  }
 ],
 "metadata": {
  "language_info": {
   "name": "python"
  }
 },
 "nbformat": 4,
 "nbformat_minor": 5
}
